{
 "cells": [
  {
   "cell_type": "code",
   "execution_count": 1,
   "metadata": {},
   "outputs": [],
   "source": [
    "from qiskit.circuit import QuantumCircuit, Parameter, ParameterVector"
   ]
  },
  {
   "cell_type": "code",
   "execution_count": 2,
   "metadata": {},
   "outputs": [
    {
     "data": {
      "text/html": [
       "<pre style=\"word-wrap: normal;white-space: pre;background: #fff0;line-height: 1.1;font-family: &quot;Courier New&quot;,Courier,monospace\">     ┌──────────────┐                \n",
       "q_0: ┤ Rz(theta[0]) ├───────■────────\n",
       "     └──────────────┘┌──────┴───────┐\n",
       "q_1: ────────────────┤ Rz(theta[1]) ├\n",
       "                     └──────────────┘</pre>"
      ],
      "text/plain": [
       "     ┌──────────────┐                \n",
       "q_0: ┤ Rz(theta[0]) ├───────■────────\n",
       "     └──────────────┘┌──────┴───────┐\n",
       "q_1: ────────────────┤ Rz(theta[1]) ├\n",
       "                     └──────────────┘"
      ]
     },
     "execution_count": 2,
     "metadata": {},
     "output_type": "execute_result"
    }
   ],
   "source": [
    "theta_vec = ParameterVector('theta', length=2)\n",
    "qc = QuantumCircuit(2)\n",
    "qc.rz(theta_vec[0], 0) #Apply Z-rotation with theta[0] parameter on 0\n",
    "qc.crz(theta_vec[1], 0, 1)\n",
    "qc.draw()"
   ]
  }
 ],
 "metadata": {
  "kernelspec": {
   "display_name": "Qatalyst",
   "language": "python",
   "name": "python3"
  },
  "language_info": {
   "codemirror_mode": {
    "name": "ipython",
    "version": 3
   },
   "file_extension": ".py",
   "mimetype": "text/x-python",
   "name": "python",
   "nbconvert_exporter": "python",
   "pygments_lexer": "ipython3",
   "version": "3.9.7"
  },
  "orig_nbformat": 4
 },
 "nbformat": 4,
 "nbformat_minor": 2
}
