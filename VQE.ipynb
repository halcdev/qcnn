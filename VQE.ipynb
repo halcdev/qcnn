{
  "nbformat": 4,
  "nbformat_minor": 0,
  "metadata": {
    "colab": {
      "provenance": [],
      "authorship_tag": "ABX9TyO9T9yZOKfoHUoT+z1kz0Y7",
      "include_colab_link": true
    },
    "kernelspec": {
      "name": "python3",
      "display_name": "Python 3"
    },
    "language_info": {
      "name": "python"
    }
  },
  "cells": [
    {
      "cell_type": "markdown",
      "metadata": {
        "id": "view-in-github",
        "colab_type": "text"
      },
      "source": [
        "<a href=\"https://colab.research.google.com/github/halcdev/qcnn/blob/main/VQE.ipynb\" target=\"_parent\"><img src=\"https://colab.research.google.com/assets/colab-badge.svg\" alt=\"Open In Colab\"/></a>"
      ]
    },
    {
      "cell_type": "code",
      "execution_count": null,
      "metadata": {
        "id": "yohWudtYH8qa"
      },
      "outputs": [],
      "source": [
        "from qiskit.algorithms.optimizers import OptimizerResult\n",
        "\n",
        "def my_minimizer(fun, x0, jac=None, bounds=None) -> OptimizerResult:\n",
        "    # Note that the callable *must* have these argument names!\n",
        "    # Args:\n",
        "    #     fun (callable): the function to minimize\n",
        "    #     x0 (np.ndarray): the initial point for the optimization\n",
        "    #     jac (callable, optional): the gradient of the objective function\n",
        "    #     bounds (list, optional): a list of tuples specifying the parameter bounds\n",
        "\n",
        "    result = OptimizerResult()\n",
        "    result.x = # optimal parameters\n",
        "    result.fun = # optimal function value\n",
        "    return result"
      ]
    }
  ]
}