{
  "nbformat": 4,
  "nbformat_minor": 0,
  "metadata": {
    "colab": {
      "provenance": []
    },
    "kernelspec": {
      "name": "python3",
      "display_name": "Python 3"
    },
    "language_info": {
      "name": "python"
    }
  },
  "cells": [
    {
      "cell_type": "markdown",
      "source": [
        "From Scratch"
      ],
      "metadata": {
        "id": "HnLJV96rkRIt"
      }
    },
    {
      "cell_type": "code",
      "source": [
        "# import necessary packages\n",
        "import os\n",
        "import matplotlib.pyplot as plt\n",
        "import numpy as np\n",
        "import pandas as pd\n",
        "import csv\n",
        "from PIL import Image\n",
        "import requests\n",
        "from io import BytesIO\n",
        "from difflib import SequenceMatcher\n",
        "from skimage.io import imshow\n",
        "import warnings\n",
        "\n",
        "import keras\n",
        "from keras.models import Sequential\n",
        "from keras.layers import Dense\n",
        "from keras.utils import to_categorical\n",
        "\n",
        "from keras.layers.convolutional import Conv2D # to add convolutional layers\n",
        "from keras.layers.convolutional import MaxPooling2D # to add pooling layers\n",
        "from keras.layers import Flatten # to flatten data for fully connected layers"
      ],
      "metadata": {
        "id": "cBSv914UqL20"
      },
      "execution_count": 1,
      "outputs": []
    },
    {
      "cell_type": "code",
      "source": [
        "# import data\n",
        "from keras.datasets import mnist\n",
        "\n",
        "# load data\n",
        "(X_train, y_train), (X_test, y_test) = mnist.load_data()\n",
        "\n",
        "# reshape to be [samples][pixels][width][height]\n",
        "X_train = X_train.reshape(X_train.shape[0], 28, 28, 1).astype('float32')\n",
        "X_test = X_test.reshape(X_test.shape[0], 28, 28, 1).astype('float32')"
      ],
      "metadata": {
        "id": "PBCLS-GRcsQ-",
        "colab": {
          "base_uri": "https://localhost:8080/"
        },
        "outputId": "ac308112-676e-4f12-ddf1-d7d3db5f6d7c"
      },
      "execution_count": 2,
      "outputs": [
        {
          "output_type": "stream",
          "name": "stdout",
          "text": [
            "Downloading data from https://storage.googleapis.com/tensorflow/tf-keras-datasets/mnist.npz\n",
            "11490434/11490434 [==============================] - 0s 0us/step\n"
          ]
        }
      ]
    },
    {
      "cell_type": "code",
      "source": [
        "type(X_train)"
      ],
      "metadata": {
        "colab": {
          "base_uri": "https://localhost:8080/"
        },
        "id": "fSVNVGo4qsLC",
        "outputId": "c4eb812c-ef0f-42ef-aa24-9180ba2b86ed"
      },
      "execution_count": 3,
      "outputs": [
        {
          "output_type": "execute_result",
          "data": {
            "text/plain": [
              "numpy.ndarray"
            ]
          },
          "metadata": {},
          "execution_count": 3
        }
      ]
    },
    {
      "cell_type": "code",
      "source": [
        "X_train = X_train / 255 # normalize training data\n",
        "X_test = X_test / 255 # normalize test data"
      ],
      "metadata": {
        "id": "qVPdCn6LeHAW"
      },
      "execution_count": 4,
      "outputs": []
    },
    {
      "cell_type": "code",
      "source": [
        "y_train = to_categorical(y_train)\n",
        "y_test = to_categorical(y_test)\n",
        "\n",
        "num_classes = y_test.shape[1] # number of categories"
      ],
      "metadata": {
        "id": "RsI_0_bQeLNR"
      },
      "execution_count": 5,
      "outputs": []
    },
    {
      "cell_type": "code",
      "source": [
        "def convolutional_model():\n",
        "\n",
        "    # create model\n",
        "    model = Sequential()\n",
        "    model.add(Conv2D(16, (5, 5), strides=(1, 1), activation='relu', input_shape=(28, 28, 1)))\n",
        "    model.add(MaxPooling2D(pool_size=(2, 2), strides=(2, 2)))\n",
        "\n",
        "    model.add(Flatten())\n",
        "    model.add(Dense(100, activation='relu'))\n",
        "    model.add(Dense(num_classes, activation='softmax'))\n",
        "\n",
        "    # compile model\n",
        "    model.compile(optimizer='adam', loss='categorical_crossentropy',  metrics=['accuracy'])\n",
        "    return model"
      ],
      "metadata": {
        "id": "Og3_E8aNfWjr"
      },
      "execution_count": 6,
      "outputs": []
    },
    {
      "cell_type": "code",
      "source": [
        "def convolutional_model2():\n",
        "\n",
        "    # create model\n",
        "    model = Sequential()\n",
        "    model.add(Conv2D(16, (5, 5), activation='relu', input_shape=(28, 28, 1)))\n",
        "    model.add(MaxPooling2D(pool_size=(2, 2), strides=(2, 2)))\n",
        "\n",
        "    model.add(Conv2D(8, (2, 2), activation='relu'))\n",
        "    model.add(MaxPooling2D(pool_size=(2, 2), strides=(2, 2)))\n",
        "\n",
        "    model.add(Flatten())\n",
        "    model.add(Dense(100, activation='relu'))\n",
        "    model.add(Dense(num_classes, activation='softmax'))\n",
        "\n",
        "    # Compile model\n",
        "    model.compile(optimizer='adam', loss='categorical_crossentropy',  metrics=['accuracy'])\n",
        "    return model"
      ],
      "metadata": {
        "id": "MDfB-UaXfl-F"
      },
      "execution_count": 7,
      "outputs": []
    },
    {
      "cell_type": "code",
      "source": [
        "# build the model\n",
        "model = convolutional_model2()\n",
        "\n",
        "# fit the model\n",
        "model.fit(X_train, y_train, validation_data=(X_test, y_test), epochs=10, batch_size=200, verbose=2)\n",
        "\n",
        "# evaluate the model\n",
        "scores = model.evaluate(X_test, y_test, verbose=0)\n",
        "print(\"Accuracy: {} \\n Error: {}\".format(scores[1], 100-scores[1]*100))"
      ],
      "metadata": {
        "colab": {
          "base_uri": "https://localhost:8080/"
        },
        "id": "uxwz8aPofYBD",
        "outputId": "4e81aa58-748d-4485-834a-c9e915c269d4"
      },
      "execution_count": 8,
      "outputs": [
        {
          "output_type": "stream",
          "name": "stdout",
          "text": [
            "Epoch 1/10\n",
            "300/300 - 17s - loss: 0.4841 - accuracy: 0.8577 - val_loss: 0.1379 - val_accuracy: 0.9571 - 17s/epoch - 56ms/step\n",
            "Epoch 2/10\n",
            "300/300 - 16s - loss: 0.1264 - accuracy: 0.9611 - val_loss: 0.0879 - val_accuracy: 0.9725 - 16s/epoch - 55ms/step\n",
            "Epoch 3/10\n",
            "300/300 - 16s - loss: 0.0892 - accuracy: 0.9732 - val_loss: 0.0754 - val_accuracy: 0.9761 - 16s/epoch - 54ms/step\n",
            "Epoch 4/10\n",
            "300/300 - 15s - loss: 0.0728 - accuracy: 0.9776 - val_loss: 0.0551 - val_accuracy: 0.9825 - 15s/epoch - 51ms/step\n",
            "Epoch 5/10\n",
            "300/300 - 15s - loss: 0.0613 - accuracy: 0.9815 - val_loss: 0.0512 - val_accuracy: 0.9828 - 15s/epoch - 50ms/step\n",
            "Epoch 6/10\n",
            "300/300 - 16s - loss: 0.0539 - accuracy: 0.9836 - val_loss: 0.0532 - val_accuracy: 0.9836 - 16s/epoch - 52ms/step\n",
            "Epoch 7/10\n",
            "300/300 - 15s - loss: 0.0485 - accuracy: 0.9851 - val_loss: 0.0450 - val_accuracy: 0.9855 - 15s/epoch - 50ms/step\n",
            "Epoch 8/10\n",
            "300/300 - 15s - loss: 0.0443 - accuracy: 0.9862 - val_loss: 0.0415 - val_accuracy: 0.9863 - 15s/epoch - 49ms/step\n",
            "Epoch 9/10\n",
            "300/300 - 15s - loss: 0.0391 - accuracy: 0.9879 - val_loss: 0.0381 - val_accuracy: 0.9870 - 15s/epoch - 49ms/step\n",
            "Epoch 10/10\n",
            "300/300 - 15s - loss: 0.0363 - accuracy: 0.9885 - val_loss: 0.0365 - val_accuracy: 0.9877 - 15s/epoch - 51ms/step\n",
            "Accuracy: 0.9876999855041504 \n",
            " Error: 1.230001449584961\n"
          ]
        }
      ]
    },
    {
      "cell_type": "code",
      "source": [
        "predictions = model.predict(X_test, 100)"
      ],
      "metadata": {
        "colab": {
          "base_uri": "https://localhost:8080/"
        },
        "id": "N7Ex5pyfvM5t",
        "outputId": "7f403443-a62e-4a6f-a347-62f5773e4ec3"
      },
      "execution_count": null,
      "outputs": [
        {
          "output_type": "stream",
          "name": "stdout",
          "text": [
            "100/100 [==============================] - 1s 13ms/step\n"
          ]
        }
      ]
    },
    {
      "cell_type": "code",
      "source": [
        "i = 930\n",
        "print(list(predictions[i]).index(max(predictions[0])))\n",
        "plt.imshow(X_test[i])"
      ],
      "metadata": {
        "colab": {
          "base_uri": "https://localhost:8080/",
          "height": 466
        },
        "id": "z41PYNj8zRYV",
        "outputId": "122127c1-31b0-4086-a9d6-67c7e3aac177"
      },
      "execution_count": null,
      "outputs": [
        {
          "output_type": "stream",
          "name": "stdout",
          "text": [
            "7\n"
          ]
        },
        {
          "output_type": "execute_result",
          "data": {
            "text/plain": [
              "<matplotlib.image.AxesImage at 0x7f8095005450>"
            ]
          },
          "metadata": {},
          "execution_count": 49
        },
        {
          "output_type": "display_data",
          "data": {
            "text/plain": [
              "<Figure size 640x480 with 1 Axes>"
            ],
            "image/png": "[encoded data removed]"
          },
          "metadata": {}
        }
      ]
    }
  ]
}