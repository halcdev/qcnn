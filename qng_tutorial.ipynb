{
 "cells": [
  {
   "attachments": {},
   "cell_type": "markdown",
   "metadata": {},
   "source": [
    "## Quantum Natural Gradient Descent tutorial on a basic H2 VQE example from Yamamoto (2019)"
   ]
  },
  {
   "attachments": {},
   "cell_type": "markdown",
   "metadata": {},
   "source": [
    "A mini tutorial on using QNG to optimize a simple H2 VQE example in pennylane"
   ]
  },
  {
   "cell_type": "code",
   "execution_count": 3,
   "metadata": {},
   "outputs": [
    {
     "name": "stdout",
     "output_type": "stream",
     "text": [
      "Requirement already satisfied: pennylane in /opt/homebrew/lib/python3.10/site-packages (0.31.0)\n",
      "Requirement already satisfied: numpy<1.24 in /opt/homebrew/lib/python3.10/site-packages (from pennylane) (1.23.5)\n",
      "Requirement already satisfied: scipy<=1.10 in /opt/homebrew/lib/python3.10/site-packages (from pennylane) (1.10.0)\n",
      "Requirement already satisfied: networkx in /opt/homebrew/lib/python3.10/site-packages (from pennylane) (3.1)\n",
      "Requirement already satisfied: rustworkx in /opt/homebrew/lib/python3.10/site-packages (from pennylane) (0.13.0)\n",
      "Requirement already satisfied: autograd<=1.5 in /opt/homebrew/lib/python3.10/site-packages (from pennylane) (1.5)\n",
      "Requirement already satisfied: toml in /opt/homebrew/lib/python3.10/site-packages (from pennylane) (0.10.2)\n",
      "Requirement already satisfied: appdirs in /opt/homebrew/lib/python3.10/site-packages (from pennylane) (1.4.4)\n",
      "Requirement already satisfied: semantic-version>=2.7 in /opt/homebrew/lib/python3.10/site-packages (from pennylane) (2.10.0)\n",
      "Requirement already satisfied: autoray>=0.3.1 in /opt/homebrew/lib/python3.10/site-packages (from pennylane) (0.6.3)\n",
      "Requirement already satisfied: cachetools in /opt/homebrew/lib/python3.10/site-packages (from pennylane) (5.3.1)\n",
      "Requirement already satisfied: pennylane-lightning>=0.31 in /opt/homebrew/lib/python3.10/site-packages (from pennylane) (0.31.0)\n",
      "Requirement already satisfied: requests in /opt/homebrew/lib/python3.10/site-packages (from pennylane) (2.31.0)\n",
      "Requirement already satisfied: future>=0.15.2 in /opt/homebrew/lib/python3.10/site-packages (from autograd<=1.5->pennylane) (0.18.3)\n",
      "Requirement already satisfied: charset-normalizer<4,>=2 in /opt/homebrew/lib/python3.10/site-packages (from requests->pennylane) (3.1.0)\n",
      "Requirement already satisfied: idna<4,>=2.5 in /opt/homebrew/lib/python3.10/site-packages (from requests->pennylane) (3.4)\n",
      "Requirement already satisfied: urllib3<3,>=1.21.1 in /opt/homebrew/lib/python3.10/site-packages (from requests->pennylane) (1.26.16)\n",
      "Requirement already satisfied: certifi>=2017.4.17 in /opt/homebrew/lib/python3.10/site-packages (from requests->pennylane) (2023.5.7)\n"
     ]
    }
   ],
   "source": [
    "!pip3 install pennylane"
   ]
  },
  {
   "cell_type": "code",
   "execution_count": 4,
   "metadata": {},
   "outputs": [],
   "source": [
    "#import packages\n",
    "import numpy as np\n",
    "import pennylane as qml\n",
    "from pennylane import expval, var\n",
    "pi = np.pi"
   ]
  },
  {
   "attachments": {},
   "cell_type": "markdown",
   "metadata": {},
   "source": [
    "First thing we want to do is initialize our ansatz (because this is in fact how we derive our Fubini-Study metric)\n",
    "\n",
    "The ansatz provided in Yamamoto (2019) is as follows: "
   ]
  },
  {
   "cell_type": "code",
   "execution_count": 5,
   "metadata": {},
   "outputs": [],
   "source": [
    "dev = qml.device(\"default.qubit\", wires=2)\n",
    "\n",
    "#create ansatz \n",
    "def ansatz(params, wires):\n",
    "    \n",
    "    #parameterized layer 0\n",
    "    qml.RY(params[0], wires=0)\n",
    "    qml.RY(params[1], wires=1)\n",
    "    \n",
    "    #entanglement\n",
    "    qml.CNOT(wires=[0,1])\n",
    "    \n",
    "    #param layer 1\n",
    "    qml.RY(params[2], wires=0)\n",
    "    qml.RY(params[3], wires=1)\n"
   ]
  },
  {
   "attachments": {},
   "cell_type": "markdown",
   "metadata": {},
   "source": [
    "Next, we need to create our hamiltonian and cost function which we are trying to minimize. The hamiltonian used for H2 is:\n",
    "\n",
    "$ H = \\alpha (I \\otimes \\sigma _{z} + \\sigma _{z} \\otimes I) + \\beta\\sigma _{x} \\otimes \\sigma _{x}$\n",
    "\n",
    "where $\\alpha$ = 0.4 and $\\beta$ = 0.2"
   ]
  },
  {
   "cell_type": "code",
   "execution_count": null,
   "metadata": {},
   "outputs": [],
   "source": [
    "alpha = 0.4\n",
    "beta = 0.2\n",
    "coeffs = [alpha, alpha, beta]\n",
    "\n",
    "#H2 hamiltonian from Yamamoto (2019)\n",
    "obs_list = [\n",
    "    qml.PauliZ(0) @ qml.Identity(1),\n",
    "    qml.Identity(0) @ qml.PauliZ(1),\n",
    "    qml.PauliX(0) @ qml.PauliX(1)\n",
    "]\n",
    "\n",
    "#create qnodes\n",
    "qnodes = qml.map(ansatz, obs_list, dev, measure='expval')\n",
    "\n",
    "#create cost function\n",
    "cost = qml.dot(coeffs, qnodes)"
   ]
  },
  {
   "cell_type": "code",
   "execution_count": 9,
   "metadata": {},
   "outputs": [],
   "source": [
    "params = np.random.rand(4)"
   ]
  },
  {
   "cell_type": "code",
   "execution_count": null,
   "metadata": {},
   "outputs": [],
   "source": [
    "#alternate version\n",
    "def circuit(params, obs):\n",
    "    ansatz(params)\n",
    "    return qml.expval(obs)\n",
    "\n",
    "# Create a qnode for each operator in obs_list\n",
    "qnodes = [qml.QNode(circuit, dev, obs=obs) for obs in obs_list]\n",
    "\n",
    "# Now you can calculate the cost like this:\n",
    "cost = 0\n",
    "for coeff, qnode in zip(coeffs, qnodes):\n",
    "    cost += coeff * qnode(params)\n"
   ]
  },
  {
   "attachments": {},
   "cell_type": "markdown",
   "metadata": {},
   "source": [
    "In this part, we actually start running our VQE with both the Quantum Natural Gradient Descent (QNG), the QNG diagnoal approxiamtion, and the vanilla gradient descent to compare their efficiencies.\n",
    "\n",
    "We want to keep minimizing the energy until we reach a covergence tolerance of 1e-06.\n",
    "\n",
    "Instead of using the pennylane functions qml.GradientDescentOptimizer and qml.QNGOptimizer, we are going to manually perform the descent because (as of right now) we can't compute it with a collection of QNodes; we are restricted to encoding it into a singular QNode. \n",
    "\n",
    "To compute the QNG Descent, we use:\n",
    "\n",
    "$\\theta_{n+1} = \\theta_n - \\eta F^{-1}\\nabla \\mathcal{L}(\\theta) $\n",
    "\n",
    "where $\\theta_{n+1}$ is our updated parameter, $\\theta$ is our current parameter, $\\eta$ is our step size, $F$ is the computed Fubini-Study Metric (which is computed with qml.metric_tensor() from pennylane) and $\\nabla \\mathcal{L}(\\theta)$ is the gradient of that parameter with respect to the cost function.\n",
    "\n",
    "We iterate through this loop until we reach the covergance tolerance of 1e-06 (ie our ground state energy)\n",
    "\n",
    "Similarly, to preform the vanilla gradient descent, we use:\n",
    "\n",
    "$\\theta_{n+1} = \\theta_n - \\eta \\nabla \\mathcal{L}(\\theta) $\n",
    "\n",
    "Which is almost identical to the Quantum Natural Gradient Descent, but it uses a Euclidean metric in the parameter space instead of the Fubini-Study metric in the quantum distribution space to update the parameters.\n",
    "\n",
    "Finally, we also compute the QNG descent a second time, but with a diagonal approximation. This computes similarly to the regular QNG, but only uses the diagonal terms in the Fubini-Study Metric."
   ]
  },
  {
   "cell_type": "code",
   "execution_count": null,
   "metadata": {},
   "outputs": [
    {
     "name": "stdout",
     "output_type": "stream",
     "text": [
      "QUANTUM NATURAL GRADIENT\n",
      "found ground-state at step 56\n",
      "Groud-state energy =  -0.8246156406856626\n",
      "\n",
      "VANILLA GRADIENT\n",
      "found ground-state at step 350\n",
      "Groud-state energy =  -0.8245739903116748\n",
      "\n",
      "QUANTUM NATURAL GRADIENT -- DIAGONAL\n",
      "found ground-state at step 101\n",
      "Groud-state energy =  -0.8246101191465934\n"
     ]
    }
   ],
   "source": [
    "#initialize constants\n",
    "max_iterations = 500\n",
    "step_size = 0.05\n",
    "conv_tol = 1e-06\n",
    "\n",
    "optimizers = ['QNG', 'Vanilla', 'QNG_diag']\n",
    "QNG_cost = []\n",
    "vanilla_cost = []\n",
    "QNG_diag_cost = []\n",
    "\n",
    "params = np.array([-0.2,-0.2,0,0])\n",
    "prev_energy = cost(params)\n",
    "for k in range(len(optimizers)):\n",
    "    #Quantum Natural Gradient Descent\n",
    "    if optimizers[k] == 'QNG':\n",
    "        print(\"QUANTUM NATURAL GRADIENT\")\n",
    "        \n",
    "        #initial params (example from Yamamoto 2019, FIG 5)\n",
    "        params = np.array([-0.2,-0.2,0,0])\n",
    "        \n",
    "        for n in range(max_iterations):\n",
    "            #compute the gradient\n",
    "            gradient = qml.grad(cost, argnum=[0])\n",
    "            \n",
    "            #take the gradient of the params\n",
    "            grad_at_point = [float(i) for i in gradient(params)[0]]\n",
    "            \n",
    "            #perform quantum natural gradient.\n",
    "            params = params - step_size * np.dot(\n",
    "                np.linalg.pinv(qnodes[0].metric_tensor([params])), \n",
    "                grad_at_point)\n",
    "            \n",
    "            #compute new energy with updates params\n",
    "            energy = cost(params)\n",
    "            QNG_cost.append(energy)\n",
    "            \n",
    "            #calculate convergence\n",
    "            conv = np.abs(energy - prev_energy)\n",
    "\n",
    "            if conv <= conv_tol:\n",
    "                print('found ground-state at step {:}'.format(n))\n",
    "                print(\"Groud-state energy = \", energy)\n",
    "                break\n",
    "\n",
    "            prev_energy = energy\n",
    "            \n",
    "    #Vanilla Gradient Descent\n",
    "    if optimizers[k] == 'Vanilla':\n",
    "        print(\"\\nVANILLA GRADIENT\")\n",
    "        params = np.array([-0.2,-0.2,0,0])\n",
    "        #params = np.array([(7*pi)/32,pi/2,0,0])\n",
    "        for n in range(max_iterations):\n",
    "            \n",
    "            gradient = qml.grad(cost, argnum=[0])\n",
    "            grad_at_point = [float(i) for i in gradient(params)[0]]\n",
    "            \n",
    "            #calculate vanilla gradient descent\n",
    "            params = params - np.dot(step_size, grad_at_point)\n",
    "            \n",
    "            #calculate new energy with updates params\n",
    "            energy = cost(params)\n",
    "            vanilla_cost.append(energy)\n",
    "            \n",
    "            #calculate convergence\n",
    "            conv = np.abs(energy - prev_energy)\n",
    "\n",
    "            if conv <= conv_tol:\n",
    "                print('found ground-state at step {:}'.format(n))\n",
    "                print(\"Groud-state energy = \", energy)\n",
    "                break\n",
    "\n",
    "            prev_energy = energy\n",
    "            \n",
    "    #QNG Diagonal Approx. Descent\n",
    "    if optimizers[k] == 'QNG_diag':\n",
    "        print(\"\\nQUANTUM NATURAL GRADIENT -- DIAGONAL\")\n",
    "        \n",
    "        #initial params (example from Yamamoto 2019, FIG 5)\n",
    "        params = np.array([-0.2,-0.2,0,0])\n",
    "        #params = np.array([(7*pi)/32,pi/2,0,0])\n",
    "        \n",
    "        for n in range(max_iterations):\n",
    "            #compute the gradient\n",
    "            gradient = qml.grad(cost, argnum=[0])\n",
    "            \n",
    "            #take the gradient of the params\n",
    "            grad_at_point = [float(i) for i in gradient(params)[0]]\n",
    "            \n",
    "            #perform quantum natural gradient.\n",
    "            params = params - step_size * np.dot(\n",
    "                np.linalg.pinv(qnodes[0].metric_tensor([params], diag_approx=True)), \n",
    "                grad_at_point)\n",
    "            \n",
    "            #compute new energy with updates params\n",
    "            energy = cost(params)\n",
    "            QNG_diag_cost.append(energy)\n",
    "            \n",
    "            #calculate convergence\n",
    "            conv = np.abs(energy - prev_energy)\n",
    "\n",
    "\n",
    "            if conv <= conv_tol:\n",
    "                print('found ground-state at step {:}'.format(n))\n",
    "                print(\"Groud-state energy = \", energy)\n",
    "                break\n",
    "\n",
    "            prev_energy = energy\n"
   ]
  },
  {
   "attachments": {},
   "cell_type": "markdown",
   "metadata": {},
   "source": [
    "All that's left is to plot our results!\n",
    "As expected, the QNG out-performs the vanilla gradient descent by a long shot. The QNG finds the groud state at about step 56, the vanilla gradient descent found it at step 350, and the QNG with the diagonal approximation found it at step 101. This further proves that optimization in the distribution space is much more efficient than in the parameter space."
   ]
  },
  {
   "cell_type": "code",
   "execution_count": null,
   "metadata": {},
   "outputs": [
    {
     "data": {
      "image/png": "[encoded data removed]",
      "text/plain": [
       "<Figure size 576x396 with 1 Axes>"
      ]
     },
     "metadata": {},
     "output_type": "display_data"
    }
   ],
   "source": [
    "from matplotlib import pyplot as plt\n",
    "plt.style.use(\"seaborn\")\n",
    "plt.plot(QNG_cost, \"black\", label=\"quantum natural gradient descent\")\n",
    "plt.plot(vanilla_cost, \"pink\", label=\"vanilla natural gradient descent\")\n",
    "plt.plot(QNG_diag_cost, \"b\", label=\"quantum natural gradient (diagonal approx.) descent\")\n",
    "\n",
    "plt.ylabel(\"Energy\")\n",
    "plt.xlabel(\"Step\")\n",
    "plt.legend()\n",
    "plt.show()"
   ]
  },
  {
   "cell_type": "code",
   "execution_count": null,
   "metadata": {},
   "outputs": [],
   "source": []
  },
  {
   "cell_type": "code",
   "execution_count": null,
   "metadata": {},
   "outputs": [],
   "source": []
  },
  {
   "cell_type": "code",
   "execution_count": null,
   "metadata": {},
   "outputs": [],
   "source": []
  }
 ],
 "metadata": {
  "kernelspec": {
   "display_name": "Python 3",
   "language": "python",
   "name": "python3"
  },
  "language_info": {
   "codemirror_mode": {
    "name": "ipython",
    "version": 3
   },
   "file_extension": ".py",
   "mimetype": "text/x-python",
   "name": "python",
   "nbconvert_exporter": "python",
   "pygments_lexer": "ipython3",
   "version": "3.10.9"
  }
 },
 "nbformat": 4,
 "nbformat_minor": 2
}
